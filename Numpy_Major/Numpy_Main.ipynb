{
  "nbformat": 4,
  "nbformat_minor": 0,
  "metadata": {
    "colab": {
      "provenance": []
    },
    "kernelspec": {
      "name": "python3",
      "display_name": "Python 3"
    },
    "language_info": {
      "name": "python"
    }
  },
  "cells": [
    {
      "cell_type": "code",
      "execution_count": null,
      "metadata": {
        "id": "ytxm6VhWfgHA"
      },
      "outputs": [],
      "source": [
        "import numpy as np"
      ]
    },
    {
      "cell_type": "markdown",
      "source": [
        "Here’s the full text content from the image you uploaded:\n",
        "\n",
        "📚 NumPy Mathematical Calculator 🧠 Objective: To build a Python-based calculator using the NumPy library that performs:\n",
        "\n",
        "Basic arithmetic operations Statistical analysis Array manipulation This project helps students understand how NumPy is used in real-world numerical computing tasks.\n",
        "\n",
        "🧰 Key Features:\n",
        "\n",
        "Basic Arithmetic Operations Addition, Subtraction, Multiplication, Division Power operations between two arrays Statistical Operations Mean, Median, Standard Deviation, Variance Minimum, Maximum, Sum, Product Shape, Size, and Data Type Array Manipulation Reshaping arrays (when possible) Sorting and Reverse Sorting Unique value extraction Accessing first and last elements Filtering values greater than the mean\n",
        "\n",
        "\n",
        "[ ]\n"
      ],
      "metadata": {
        "id": "YU3gJH3Qfru6"
      }
    },
    {
      "cell_type": "code",
      "source": [
        "def clear_screen():\n",
        "    # Simple universal clear (adds blank lines to push old output away)\n",
        "    print(\"\\n\" * 1)\n",
        "\n",
        "class Calculator:\n",
        "\n",
        "    @staticmethod\n",
        "    def ArithmeticOperations():\n",
        "        clear_screen()\n",
        "        print(\"\\n\" + \"-\"*50)\n",
        "        print(\" BASIC ARITHMETIC OPERATIONS \".center(50))\n",
        "        print(\"-\"*50)\n",
        "\n",
        "        arr1 = np.array((input(\"Enter value 1: \").split())).astype(float)\n",
        "        arr2 = np.array((input(\"Enter value 2: \").split())).astype(float)\n",
        "\n",
        "        print(\"Addition:\", np.add(arr1, arr2))\n",
        "        print(\"Subtraction:\", np.subtract(arr1, arr2))\n",
        "        print(\"Multiplication:\", np.multiply(arr1, arr2))\n",
        "        print(\"Division:\", np.divide(arr1, arr2))\n",
        "        print(\"Power:\", np.power(arr1, arr2))\n",
        "\n",
        "        input(\"\\nPress Enter to return to the main menu...\")\n",
        "        clear_screen()\n",
        "\n",
        "    @staticmethod\n",
        "    def StatisticalOperations():\n",
        "        clear_screen()\n",
        "        print(\"\\n\"+ \"-\"*50)\n",
        "        print(\" STATISTICAL OPERATIONS \".center(50))\n",
        "        print(\"-\"*50)\n",
        "\n",
        "        arr3 = np.array((input(\"Enter value : \").split())).astype(float)\n",
        "\n",
        "        print(\"Mean:\", np.mean(arr3))\n",
        "        print(\"Median:\", np.median(arr3))\n",
        "        print(\"Standard Deviation:\", np.std(arr3))\n",
        "        print(\"Variance:\", np.var(arr3))\n",
        "        print(\"Minimum:\", np.min(arr3))\n",
        "        print(\"Maximum:\", np.max(arr3))\n",
        "        print(\"Sum:\", np.sum(arr3))\n",
        "        print(\"Product:\", np.prod(arr3))\n",
        "        print(\"Shape:\", arr3.shape)\n",
        "        print(\"Size:\", arr3.size)\n",
        "        print(\"Datatype:\", arr3.dtype)\n",
        "\n",
        "        input(\"\\nPress Enter to return to the main menu...\")\n",
        "        clear_screen()\n",
        "\n",
        "    @staticmethod\n",
        "    def ArrayManipulation():\n",
        "        clear_screen()\n",
        "        print(\"\\n\"+\"-\"*50)\n",
        "        print(\" ARRAY MANIPULATION \".center(50))\n",
        "        print(\"-\"*50)\n",
        "\n",
        "        arr4 = np.array((input(\"Enter value : \").split())).astype(float)\n",
        "\n",
        "        print(\"Original Array:\", arr4)\n",
        "        print(\"Sorted Array:\", np.sort(arr4))\n",
        "        print(\"Reversed Array:\", np.sort(arr4)[::-1])\n",
        "        print(\"Unique Values:\", np.unique(arr4))\n",
        "        print(\"First Element:\", arr4[0])\n",
        "        print(\"Last Element:\", arr4[-1])\n",
        "\n",
        "        input(\"\\nPress Enter to return to the main menu...\")\n",
        "        clear_screen()\n",
        "\n",
        "\n",
        "# ---------------- MAIN MENU LOOP -----------------\n",
        "while True:\n",
        "    print(\"\\n\" + \"=\"*50)\n",
        "    print(\" 🧮 NumPy Calculator 🧮 \".center(50))\n",
        "    print(\"=\"*50)\n",
        "\n",
        "    print(\"\\nChoose an option:\")\n",
        "    print(\"1. Arithmetic Operations\")\n",
        "    print(\"2. Statistical Operations\")\n",
        "    print(\"3. Array Manipulation\")\n",
        "    print(\"4. Exit\\n\")\n",
        "\n",
        "    choice = input(\"Enter your choice (1-4): \").strip()\n",
        "\n",
        "    if choice == \"1\":\n",
        "        Calculator.ArithmeticOperations()\n",
        "    elif choice == \"2\":\n",
        "        Calculator.StatisticalOperations()\n",
        "    elif choice == \"3\":\n",
        "        Calculator.ArrayManipulation()\n",
        "    elif choice == \"4\":\n",
        "        clear_screen()\n",
        "        print(\"\\nThank you for using NumPy Calculator! 👋\")\n",
        "        break\n",
        "    else:\n",
        "        print(\"\\n❌ Invalid choice. Please enter a number between 1 and 4.\")\n"
      ],
      "metadata": {
        "id": "a7N5QwMUflS1"
      },
      "execution_count": null,
      "outputs": []
    }
  ]
}