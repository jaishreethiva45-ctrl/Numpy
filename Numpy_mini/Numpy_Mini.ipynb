{
  "nbformat": 4,
  "nbformat_minor": 0,
  "metadata": {
    "colab": {
      "provenance": []
    },
    "kernelspec": {
      "name": "python3",
      "display_name": "Python 3"
    },
    "language_info": {
      "name": "python"
    }
  },
  "cells": [
    {
      "cell_type": "code",
      "execution_count": 1,
      "metadata": {
        "id": "fVpw4y2JqIhv"
      },
      "outputs": [],
      "source": [
        "import numpy as np"
      ]
    },
    {
      "cell_type": "markdown",
      "source": [
        "🎯 Objective:\n",
        "You are working with student marks data and need to prepare and organize it using NumPy arrays.Your goal is to create, modify, and analyze the data efficiently without using any external libraries.\n",
        "\n",
        "🧠 Project Description:\n",
        "A school has recorded the marks of several students in different subjects.You are required to design a NumPy-based solution to store, manage, and process this data.Your tasks involve creating arrays, changing their shapes, combining data, performing modifications, and analyzing patterns — all using NumPy.\n",
        "\n",
        "📋 Project Tasks:\n",
        "**Data Creation:**Create suitable arrays to represent students, subjects, and their marks.\n",
        "\n",
        "**Data Exploration:**Explore the properties of these arrays — such as their dimensions, size, and structure.\n",
        "\n",
        "**Data Transformation:**Perform necessary reshaping and reorganization of the data to suit various operations.\n",
        "\n",
        "**Data Combination:**Merge or split arrays to simulate adding new students, new subjects, or reorganizing the dataset.\n",
        "\n",
        "**Data Modification:**Apply operations to update marks, remove data, or identify unique information.\n",
        "\n",
        "**Data Type Handling:**Demonstrate how the same data can exist in different data types and how changes affect results.\n",
        "\n",
        "**Copy and View Behavior:**Show the difference between creating a full copy of an array and creating a view of the same data\n"
      ],
      "metadata": {
        "id": "npKXDE4nqL34"
      }
    },
    {
      "cell_type": "code",
      "source": [
        "#Data Creation\n",
        "import numpy as np\n",
        "students=np.array([\"Alia\", \"Riya\", \"Ram\", \"Priya\", \"Eve\", \"Don\"])\n",
        "subjects=np.array([\"Physics\", \"Chemistry\", \"English\", \"Maths\"])\n",
        "marks=np.array([\n",
        "    [90, 65, 95, 91],\n",
        "    [80, 75, 90, 85],\n",
        "    [95, 89, 94, 87],\n",
        "    [76, 64, 68, 87],\n",
        "    [89, 85, 91, 85],\n",
        "    [88, 71, 60, 40]])\n",
        "print(students)\n",
        "print(subjects)\n",
        "print(marks)\n"
      ],
      "metadata": {
        "id": "fTDJY9uRqXXQ"
      },
      "execution_count": null,
      "outputs": []
    },
    {
      "cell_type": "code",
      "source": [
        "#Data Exploration\n",
        "print(students.ndim)\n",
        "print(subjects.ndim)\n",
        "print(marks.ndim)"
      ],
      "metadata": {
        "id": "NZC_CWmoqe0J"
      },
      "execution_count": null,
      "outputs": []
    },
    {
      "cell_type": "code",
      "source": [
        "print(students.size)\n",
        "print(subjects.size)\n",
        "print(marks.size)"
      ],
      "metadata": {
        "id": "FA7mCDbJrPyq"
      },
      "execution_count": null,
      "outputs": []
    },
    {
      "cell_type": "code",
      "source": [
        "print(students.shape)\n",
        "print(subjects.shape)\n",
        "print(marks.shape)"
      ],
      "metadata": {
        "id": "txWZuP0crVnf"
      },
      "execution_count": null,
      "outputs": []
    },
    {
      "cell_type": "code",
      "source": [
        "#Data Transformation\n",
        "print(marks.flatten())\n",
        "print(marks.reshape(12,2))\n",
        "print(marks.T)\n",
        "print(np.flip(marks))"
      ],
      "metadata": {
        "id": "rvbcbBJYraCB"
      },
      "execution_count": null,
      "outputs": []
    },
    {
      "cell_type": "code",
      "source": [
        "#Data Combination\n",
        "student = np.array(['Alia',\"Riya\",\"Ram\"])\n",
        "marks = np.array([[90, 65, 95, 91],\n",
        "    [80, 75, 90, 85],\n",
        "    [95, 89, 94, 87]])\n",
        "student_1 = np.array([\"Siya\"])\n",
        "marks_1 = np.array([[75,80,90,89]])\n",
        "\n",
        "student = np.concatenate((student,student_1))\n",
        "marks = np.concatenate((marks,marks_1))\n",
        "print(student)\n",
        "print(marks)"
      ],
      "metadata": {
        "id": "oX1u-OyRrdx5"
      },
      "execution_count": null,
      "outputs": []
    },
    {
      "cell_type": "code",
      "source": [
        "marks=marks.reshape(-1)\n",
        "print(marks)\n",
        "np.split(marks,4)"
      ],
      "metadata": {
        "id": "OvIzz5HWrhE8"
      },
      "execution_count": null,
      "outputs": []
    },
    {
      "cell_type": "code",
      "source": [
        "#Data Modification\n",
        "marks[4] = 40\n",
        "print(marks)"
      ],
      "metadata": {
        "id": "1NRANQgqrjUh"
      },
      "execution_count": null,
      "outputs": []
    },
    {
      "cell_type": "code",
      "source": [
        "c=np.delete(marks,4)\n",
        "print(c)"
      ],
      "metadata": {
        "id": "AIEzTrQ1rmUg"
      },
      "execution_count": null,
      "outputs": []
    },
    {
      "cell_type": "code",
      "source": [
        "print(marks)\n",
        "np.unique(marks)"
      ],
      "metadata": {
        "id": "pc42OQ5Oro2X"
      },
      "execution_count": null,
      "outputs": []
    },
    {
      "cell_type": "code",
      "source": [
        "#Data Type Handling\n",
        "print(marks.dtype)\n",
        "print(marks.astype(dtype=float))\n",
        "print(marks.astype(dtype=str))"
      ],
      "metadata": {
        "id": "1xEwQaNFrrLI"
      },
      "execution_count": null,
      "outputs": []
    },
    {
      "cell_type": "code",
      "source": [
        "#Copy & View Behaviour\n",
        "a = marks.copy()\n",
        "a[0] = 99\n",
        "print(a)"
      ],
      "metadata": {
        "id": "Xyve5rOFrthx"
      },
      "execution_count": null,
      "outputs": []
    },
    {
      "cell_type": "code",
      "source": [
        "b = marks.view()\n",
        "b[0] = 100\n",
        "print(marks)"
      ],
      "metadata": {
        "id": "gy8wYtbOrvvm"
      },
      "execution_count": null,
      "outputs": []
    }
  ]
}